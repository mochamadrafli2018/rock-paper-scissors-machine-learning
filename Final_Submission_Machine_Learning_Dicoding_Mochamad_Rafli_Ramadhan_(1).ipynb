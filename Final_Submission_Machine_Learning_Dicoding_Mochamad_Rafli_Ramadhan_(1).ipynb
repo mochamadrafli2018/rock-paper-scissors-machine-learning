{
  "nbformat": 4,
  "nbformat_minor": 0,
  "metadata": {
    "colab": {
      "name": "Final_Submission_Machine_Learning_Dicoding_Mochamad_Rafli_Ramadhan (1).ipynb",
      "provenance": [],
      "collapsed_sections": []
    },
    "kernelspec": {
      "name": "python3",
      "display_name": "Python 3"
    }
  },
  "cells": [
    {
      "cell_type": "markdown",
      "metadata": {
        "id": "y13jEC0zW9v0"
      },
      "source": [
        "Data Diri\n",
        "\n",
        "Nama : Mochamad Rafli Ramadhan\n",
        "\n",
        "Tempat, Tanggal Lahir : Semarang, 16 Desember 1999\n",
        "\n",
        "Institusi : Universitas Gadjah Mada\n"
      ]
    },
    {
      "cell_type": "code",
      "metadata": {
        "id": "c_3uFZeL6i-O",
        "colab": {
          "base_uri": "https://localhost:8080/"
        },
        "outputId": "5e41161e-6931-4415-f1e3-6db855ab01b6"
      },
      "source": [
        "#Import library yang di butuhkan\n",
        "import tensorflow as tf\n",
        "from tensorflow.keras.optimizers import RMSprop\n",
        "from tensorflow.keras.preprocessing.image import ImageDataGenerator\n",
        "print(tf.__version__)     #2.3.0"
      ],
      "execution_count": null,
      "outputs": [
        {
          "output_type": "stream",
          "text": [
            "2.3.0\n"
          ],
          "name": "stdout"
        }
      ]
    },
    {
      "cell_type": "code",
      "metadata": {
        "id": "wofSaV2a62NV",
        "colab": {
          "base_uri": "https://localhost:8080/"
        },
        "outputId": "74636ea9-3a03-4513-94d9-bb11477bcf22"
      },
      "source": [
        "#Mengunduh File Zip atau Dataset\n",
        "!wget --no-check-certificate \\\n",
        " https://dicodingacademy.blob.core.windows.net/picodiploma/ml_pemula_academy/rockpaperscissors.zip \\\n",
        "  -O /tmp/rockpaperscissors.zip"
      ],
      "execution_count": null,
      "outputs": [
        {
          "output_type": "stream",
          "text": [
            "--2020-11-07 14:18:07--  https://dicodingacademy.blob.core.windows.net/picodiploma/ml_pemula_academy/rockpaperscissors.zip\n",
            "Resolving dicodingacademy.blob.core.windows.net (dicodingacademy.blob.core.windows.net)... 52.239.197.36\n",
            "Connecting to dicodingacademy.blob.core.windows.net (dicodingacademy.blob.core.windows.net)|52.239.197.36|:443... connected.\n",
            "HTTP request sent, awaiting response... 200 OK\n",
            "Length: 322873683 (308M) [application/zip]\n",
            "Saving to: ‘/tmp/rockpaperscissors.zip’\n",
            "\n",
            "/tmp/rockpapersciss 100%[===================>] 307.92M  6.45MB/s    in 48s     \n",
            "\n",
            "2020-11-07 14:18:55 (6.48 MB/s) - ‘/tmp/rockpaperscissors.zip’ saved [322873683/322873683]\n",
            "\n"
          ],
          "name": "stdout"
        }
      ]
    },
    {
      "cell_type": "code",
      "metadata": {
        "id": "Cksjbb627CBy"
      },
      "source": [
        "#Mengimport module zipfile dan os\n",
        "import zipfile,os"
      ],
      "execution_count": null,
      "outputs": []
    },
    {
      "cell_type": "code",
      "metadata": {
        "id": "rA13bKLb7CKT",
        "colab": {
          "base_uri": "https://localhost:8080/"
        },
        "outputId": "1f66bc89-e266-414e-cd2f-d103fe214a51"
      },
      "source": [
        "#Ekstaksi data\n",
        "file_name = '/tmp/rockpaperscissors.zip'\n",
        "#Read mode zip file\n",
        "zip_ref = zipfile.ZipFile(file_name, 'r')\n",
        "#zip_ref.printdir() perintah untuk menampilkan tabel of content\n",
        "#Mengekstak semua file\n",
        "zip_ref.extractall('/tmp')\n",
        "zip_ref.close()\n",
        "#Setelah selesai ektraksi print Done\n",
        "print(\"Done\")"
      ],
      "execution_count": null,
      "outputs": [
        {
          "output_type": "stream",
          "text": [
            "Done\n"
          ],
          "name": "stdout"
        }
      ]
    },
    {
      "cell_type": "code",
      "metadata": {
        "id": "6uYD7ubv7CaW"
      },
      "source": [
        "#Membuat folder atau directory baru pada folder utama\n",
        "os.mkdir('/tmp/rockpaperscissors/train')\n",
        "os.mkdir('/tmp/rockpaperscissors/valid')"
      ],
      "execution_count": null,
      "outputs": []
    },
    {
      "cell_type": "code",
      "metadata": {
        "id": "d9todnDO7CYA"
      },
      "source": [
        "#Memberi nama variabel pada file atau directory dan menambahkan path pada suatu directory\n",
        "dir_utama = '/tmp/rockpaperscissors'\n",
        "dir_rock = os.path.join(dir_utama, 'rock')\n",
        "dir_paper = os.path.join(dir_utama, 'paper')\n",
        "dir_scissors = os.path.join(dir_utama, 'scissors')\n",
        "dir_train = os.path.join(dir_utama, 'train')\n",
        "dir_valid = os.path.join(dir_utama, 'valid')"
      ],
      "execution_count": null,
      "outputs": []
    },
    {
      "cell_type": "code",
      "metadata": {
        "id": "fttAboK47CUL",
        "colab": {
          "base_uri": "https://localhost:8080/"
        },
        "outputId": "e8ad1455-f1e0-4fb9-8343-553bfb26be19"
      },
      "source": [
        "#Mengecek folder atau directory yang telah dibuat\n",
        "os.listdir('/tmp/rockpaperscissors')\n",
        "#os.listfile('/tmp/rockpaperscissors') untuk mengecek file"
      ],
      "execution_count": null,
      "outputs": [
        {
          "output_type": "execute_result",
          "data": {
            "text/plain": [
              "['rock',\n",
              " 'scissors',\n",
              " 'README_rpc-cv-images.txt',\n",
              " 'valid',\n",
              " 'train',\n",
              " 'paper',\n",
              " 'rps-cv-images']"
            ]
          },
          "metadata": {
            "tags": []
          },
          "execution_count": 6
        }
      ]
    },
    {
      "cell_type": "code",
      "metadata": {
        "id": "AgK1two3-3nt"
      },
      "source": [
        "#Membuat folder atau direcotry baru dalam folder train dan valid \n",
        "os.mkdir('/tmp/rockpaperscissors/train/rock')\n",
        "os.mkdir('/tmp/rockpaperscissors/train/paper')\n",
        "os.mkdir('/tmp/rockpaperscissors/train/scissors')\n",
        "os.mkdir('/tmp/rockpaperscissors/valid/rock')\n",
        "os.mkdir('/tmp/rockpaperscissors/valid/paper')\n",
        "os.mkdir('/tmp/rockpaperscissors/valid/scissors')"
      ],
      "execution_count": null,
      "outputs": []
    },
    {
      "cell_type": "code",
      "metadata": {
        "id": "pzD2_x6Q_Bqa"
      },
      "source": [
        "#Memberi nama variabel dan menambahkan path pada directory \n",
        "train_rock = os.path.join(dir_train, 'rock')\n",
        "train_paper = os.path.join(dir_train, 'paper')\n",
        "train_scissors = os.path.join(dir_train, 'scissors')\n",
        "valid_rock = os.path.join(dir_valid, 'rock')\n",
        "valid_paper = os.path.join(dir_valid, 'paper')\n",
        "valid_scissors = os.path.join(dir_valid, 'scissors')"
      ],
      "execution_count": null,
      "outputs": []
    },
    {
      "cell_type": "code",
      "metadata": {
        "id": "DvVsVtfJCYxN",
        "colab": {
          "base_uri": "https://localhost:8080/"
        },
        "outputId": "02acaaa1-53cd-47db-d107-ee77d56f43ac"
      },
      "source": [
        "#Mengecek folder yang telah dibuat pada path dir_train\n",
        "os.listdir(dir_train)"
      ],
      "execution_count": null,
      "outputs": [
        {
          "output_type": "execute_result",
          "data": {
            "text/plain": [
              "['rock', 'scissors', 'paper']"
            ]
          },
          "metadata": {
            "tags": []
          },
          "execution_count": 9
        }
      ]
    },
    {
      "cell_type": "code",
      "metadata": {
        "id": "GIEBkBXJCfHT",
        "colab": {
          "base_uri": "https://localhost:8080/"
        },
        "outputId": "15f8e167-2312-4ff5-aa70-99e621938018"
      },
      "source": [
        "#Mengecek folder yang telah dibuat\n",
        "os.listdir(dir_valid)"
      ],
      "execution_count": null,
      "outputs": [
        {
          "output_type": "execute_result",
          "data": {
            "text/plain": [
              "['rock', 'scissors', 'paper']"
            ]
          },
          "metadata": {
            "tags": []
          },
          "execution_count": 10
        }
      ]
    },
    {
      "cell_type": "code",
      "metadata": {
        "id": "MkOTrOnhCjvk"
      },
      "source": [
        "#Membagi data pada dataset rock, paper, dan scissor menjadi train dan valid\n",
        "from sklearn.model_selection import train_test_split\n",
        "\n",
        "#40% untuk test dan 60% untuk train\n",
        "\n",
        "x_train_rock, y_valid_rock = train_test_split(os.listdir(dir_rock), test_size = 0.4,random_state=0)\n",
        "x_train_paper, y_valid_paper = train_test_split(os.listdir(dir_paper), test_size = 0.4,random_state=0)\n",
        "x_train_scissors, y_valid_scissors = train_test_split(os.listdir(dir_scissors), test_size = 0.4,random_state=0)"
      ],
      "execution_count": null,
      "outputs": []
    },
    {
      "cell_type": "code",
      "metadata": {
        "id": "DhlG0XtRClh7"
      },
      "source": [
        "#Mengcopy hasil dataset yang telah dibagi menjadi train dan valid ke directory baru agar lebih rapi\n",
        "import shutil\n",
        "\n",
        "train_rock = [shutil.copy(os.path.join(dir_rock, i), os.path.join(train_rock, i)) for i in x_train_rock]\n",
        "train_paper = [shutil.copy(os.path.join(dir_paper,i), os.path.join(train_paper,i)) for i in x_train_paper]\n",
        "train_scissors = [shutil.copy(os.path.join(dir_scissors,i), os.path.join(train_scissors,i)) for i in x_train_scissors]   \n",
        "\n",
        "valid_rock = [shutil.copy(os.path.join(dir_rock, i), os.path.join(valid_rock,i)) for i in y_valid_rock]\n",
        "valid_paper = [shutil.copy(os.path.join(dir_paper, i), os.path.join(valid_paper,i)) for i in y_valid_paper]\n",
        "valid_scissors = [shutil.copy(os.path.join(dir_scissors, i), os.path.join(valid_scissors,i)) for i in y_valid_scissors]"
      ],
      "execution_count": null,
      "outputs": []
    },
    {
      "cell_type": "code",
      "metadata": {
        "id": "VBsnmAgJEUwr"
      },
      "source": [
        "#Data Augmentation dengan menggunakan Image Data Generator (Menghasilkan gambar dari data)\n",
        "train_datagen = ImageDataGenerator(\n",
        "                    rescale=1./255,\n",
        "                    rotation_range=20,\n",
        "                    horizontal_flip=True,\n",
        "                    shear_range = 0.2,\n",
        "                    fill_mode = 'nearest',\n",
        "                    zoom_range=0.25)\n",
        "\n",
        "test_datagen = ImageDataGenerator(\n",
        "                    rescale=1./255,\n",
        "                    rotation_range=20,\n",
        "                    shear_range = 0.2,\n",
        "                    fill_mode = 'nearest',\n",
        "                    zoom_range=0.25)"
      ],
      "execution_count": null,
      "outputs": []
    },
    {
      "cell_type": "code",
      "metadata": {
        "id": "Uzprl9qYEVKs",
        "colab": {
          "base_uri": "https://localhost:8080/"
        },
        "outputId": "8918899f-0f31-407b-d7d8-f2bcde5344b7"
      },
      "source": [
        "#Membuat suatu flow data untuk train dan validasi\n",
        "train_generator = train_datagen.flow_from_directory(\n",
        "        dir_train,               # direktori data train\n",
        "        target_size=(150, 150),  # mengubah resolusi seluruh gambar menjadi 150x150 piksel\n",
        "        batch_size=32,\n",
        "        class_mode='categorical') #klasifikasi categorical untuk multi-class\n",
        "\n",
        "validation_generator = test_datagen.flow_from_directory(\n",
        "        dir_valid,              # direktori data validasi\n",
        "        target_size=(150, 150), # mengubah resolusi seluruh gambar menjadi 150x150 piksel\n",
        "        batch_size=32, \n",
        "        class_mode='categorical') #klasifikasi categorical untuk multi-class\n"
      ],
      "execution_count": null,
      "outputs": [
        {
          "output_type": "stream",
          "text": [
            "Found 1312 images belonging to 3 classes.\n",
            "Found 876 images belonging to 3 classes.\n"
          ],
          "name": "stdout"
        }
      ]
    },
    {
      "cell_type": "code",
      "metadata": {
        "id": "yqB-g1wwFFtX"
      },
      "source": [
        "#Membuat model machine learning\n",
        "model = tf.keras.models.Sequential([\n",
        "        tf.keras.layers.Conv2D(16, (3,3), activation='relu', input_shape=(150, 150, 3)),\n",
        "        tf.keras.layers.MaxPooling2D(2, 2),\n",
        "        tf.keras.layers.Conv2D(32, (3,3), activation='relu'),\n",
        "        tf.keras.layers.MaxPooling2D(2,2),\n",
        "        tf.keras.layers.Conv2D(64, (3,3), activation='relu'),\n",
        "        tf.keras.layers.MaxPooling2D(2,2),\n",
        "        tf.keras.layers.Conv2D(128, (3,3), activation='relu'),\n",
        "        tf.keras.layers.MaxPooling2D(2,2),\n",
        "        tf.keras.layers.Dropout(0.25),\n",
        "        tf.keras.layers.Flatten(),\n",
        "        tf.keras.layers.Dense(512, activation='relu'),\n",
        "        tf.keras.layers.Dense(128, activation='relu'),\n",
        "        tf.keras.layers.Dense(32, activation='relu'),\n",
        "        tf.keras.layers.Dense(3, activation='softmax')\n",
        "])"
      ],
      "execution_count": null,
      "outputs": []
    },
    {
      "cell_type": "code",
      "metadata": {
        "id": "ZmDzsr9nFF5V",
        "colab": {
          "base_uri": "https://localhost:8080/"
        },
        "outputId": "5240a2c8-c269-45b3-84e0-c5965e06c936"
      },
      "source": [
        "#Ringkasan model yang telah dibentuk\n",
        "model.summary()"
      ],
      "execution_count": null,
      "outputs": [
        {
          "output_type": "stream",
          "text": [
            "Model: \"sequential\"\n",
            "_________________________________________________________________\n",
            "Layer (type)                 Output Shape              Param #   \n",
            "=================================================================\n",
            "conv2d (Conv2D)              (None, 148, 148, 16)      448       \n",
            "_________________________________________________________________\n",
            "max_pooling2d (MaxPooling2D) (None, 74, 74, 16)        0         \n",
            "_________________________________________________________________\n",
            "conv2d_1 (Conv2D)            (None, 72, 72, 32)        4640      \n",
            "_________________________________________________________________\n",
            "max_pooling2d_1 (MaxPooling2 (None, 36, 36, 32)        0         \n",
            "_________________________________________________________________\n",
            "conv2d_2 (Conv2D)            (None, 34, 34, 64)        18496     \n",
            "_________________________________________________________________\n",
            "max_pooling2d_2 (MaxPooling2 (None, 17, 17, 64)        0         \n",
            "_________________________________________________________________\n",
            "conv2d_3 (Conv2D)            (None, 15, 15, 128)       73856     \n",
            "_________________________________________________________________\n",
            "max_pooling2d_3 (MaxPooling2 (None, 7, 7, 128)         0         \n",
            "_________________________________________________________________\n",
            "dropout (Dropout)            (None, 7, 7, 128)         0         \n",
            "_________________________________________________________________\n",
            "flatten (Flatten)            (None, 6272)              0         \n",
            "_________________________________________________________________\n",
            "dense (Dense)                (None, 512)               3211776   \n",
            "_________________________________________________________________\n",
            "dense_1 (Dense)              (None, 128)               65664     \n",
            "_________________________________________________________________\n",
            "dense_2 (Dense)              (None, 32)                4128      \n",
            "_________________________________________________________________\n",
            "dense_3 (Dense)              (None, 3)                 99        \n",
            "=================================================================\n",
            "Total params: 3,379,107\n",
            "Trainable params: 3,379,107\n",
            "Non-trainable params: 0\n",
            "_________________________________________________________________\n"
          ],
          "name": "stdout"
        }
      ]
    },
    {
      "cell_type": "code",
      "metadata": {
        "id": "Fy6-KSjyF1ks"
      },
      "source": [
        "#Memilih loss category dan optimizer adam\n",
        "model.compile(loss = 'categorical_crossentropy',\n",
        "              optimizer = tf.optimizers.Adam(),\n",
        "              metrics=['accuracy'])\n"
      ],
      "execution_count": null,
      "outputs": []
    },
    {
      "cell_type": "code",
      "metadata": {
        "id": "wts4xQwjGdxA",
        "colab": {
          "base_uri": "https://localhost:8080/"
        },
        "outputId": "3fab3ed9-b4cb-455f-a4a4-f802e67efb9f"
      },
      "source": [
        "#Melakukan fitting model\n",
        "history = model.fit(\n",
        "          train_generator,\n",
        "          steps_per_epoch=20,  # berapa batch yang akan dieksekusi pada setiap epoch\n",
        "          epochs=20,\n",
        "          validation_data=validation_generator, # menampilkan akurasi pengujian data validasi\n",
        "          validation_steps=5,  # berapa batch yang akan dieksekusi pada setiap epoch\n",
        "          verbose=2)"
      ],
      "execution_count": null,
      "outputs": [
        {
          "output_type": "stream",
          "text": [
            "Epoch 1/25\n",
            "25/25 - 22s - loss: 0.1100 - accuracy: 0.9700 - val_loss: 0.0973 - val_accuracy: 0.9688\n",
            "Epoch 2/25\n",
            "25/25 - 22s - loss: 0.1106 - accuracy: 0.9650 - val_loss: 0.1170 - val_accuracy: 0.9688\n",
            "Epoch 3/25\n",
            "25/25 - 22s - loss: 0.0740 - accuracy: 0.9762 - val_loss: 0.0728 - val_accuracy: 0.9688\n",
            "Epoch 4/25\n",
            "25/25 - 22s - loss: 0.0756 - accuracy: 0.9750 - val_loss: 0.0586 - val_accuracy: 0.9750\n",
            "Epoch 5/25\n",
            "25/25 - 23s - loss: 0.0575 - accuracy: 0.9850 - val_loss: 0.0494 - val_accuracy: 0.9875\n",
            "Epoch 6/25\n",
            "25/25 - 22s - loss: 0.0645 - accuracy: 0.9750 - val_loss: 0.0375 - val_accuracy: 0.9875\n",
            "Epoch 7/25\n",
            "25/25 - 23s - loss: 0.0504 - accuracy: 0.9825 - val_loss: 0.0485 - val_accuracy: 0.9812\n",
            "Epoch 8/25\n",
            "25/25 - 22s - loss: 0.0599 - accuracy: 0.9812 - val_loss: 0.0917 - val_accuracy: 0.9625\n",
            "Epoch 9/25\n",
            "25/25 - 22s - loss: 0.0835 - accuracy: 0.9762 - val_loss: 0.0724 - val_accuracy: 0.9812\n",
            "Epoch 10/25\n",
            "25/25 - 22s - loss: 0.0682 - accuracy: 0.9787 - val_loss: 0.0816 - val_accuracy: 0.9750\n",
            "Epoch 11/25\n",
            "25/25 - 22s - loss: 0.0660 - accuracy: 0.9775 - val_loss: 0.0225 - val_accuracy: 0.9937\n",
            "Epoch 12/25\n",
            "25/25 - 22s - loss: 0.0442 - accuracy: 0.9862 - val_loss: 0.1394 - val_accuracy: 0.9812\n",
            "Epoch 13/25\n",
            "25/25 - 22s - loss: 0.0471 - accuracy: 0.9850 - val_loss: 0.1106 - val_accuracy: 0.9563\n",
            "Epoch 14/25\n",
            "25/25 - 22s - loss: 0.0426 - accuracy: 0.9862 - val_loss: 0.1038 - val_accuracy: 0.9688\n",
            "Epoch 15/25\n",
            "25/25 - 22s - loss: 0.0504 - accuracy: 0.9862 - val_loss: 0.0568 - val_accuracy: 0.9812\n",
            "Epoch 16/25\n",
            "25/25 - 22s - loss: 0.0504 - accuracy: 0.9837 - val_loss: 0.0181 - val_accuracy: 1.0000\n",
            "Epoch 17/25\n",
            "25/25 - 22s - loss: 0.0746 - accuracy: 0.9750 - val_loss: 0.0447 - val_accuracy: 0.9875\n",
            "Epoch 18/25\n",
            "25/25 - 22s - loss: 0.0479 - accuracy: 0.9837 - val_loss: 0.0276 - val_accuracy: 0.9875\n",
            "Epoch 19/25\n",
            "25/25 - 22s - loss: 0.0462 - accuracy: 0.9862 - val_loss: 0.0509 - val_accuracy: 0.9875\n",
            "Epoch 20/25\n",
            "25/25 - 22s - loss: 0.0799 - accuracy: 0.9775 - val_loss: 0.0434 - val_accuracy: 0.9875\n",
            "Epoch 21/25\n",
            "25/25 - 22s - loss: 0.0467 - accuracy: 0.9837 - val_loss: 0.0557 - val_accuracy: 0.9750\n",
            "Epoch 22/25\n",
            "25/25 - 22s - loss: 0.0412 - accuracy: 0.9875 - val_loss: 0.1599 - val_accuracy: 0.9375\n",
            "Epoch 23/25\n",
            "25/25 - 22s - loss: 0.0438 - accuracy: 0.9837 - val_loss: 0.0800 - val_accuracy: 0.9812\n",
            "Epoch 24/25\n",
            "25/25 - 22s - loss: 0.0207 - accuracy: 0.9900 - val_loss: 0.1009 - val_accuracy: 0.9750\n",
            "Epoch 25/25\n",
            "25/25 - 22s - loss: 0.0328 - accuracy: 0.9900 - val_loss: 0.0783 - val_accuracy: 0.9812\n"
          ],
          "name": "stdout"
        }
      ]
    },
    {
      "cell_type": "code",
      "metadata": {
        "id": "K19vU1Q2Gd8a",
        "colab": {
          "base_uri": "https://localhost:8080/",
          "height": 298
        },
        "outputId": "7000f42b-186a-45d8-b073-f24f5711d0bf"
      },
      "source": [
        "#Membuat plot terhadap akurasi model pada data training dan validasi\n",
        "import matplotlib.pyplot as plt\n",
        "acc = history.history['accuracy']\n",
        "val_acc = history.history['val_accuracy']\n",
        "loss = history.history['loss']\n",
        "val_loss = history.history['val_loss']\n",
        "\n",
        "epochs = range(len(acc))\n",
        "\n",
        "plt.plot(epochs, acc, 'r', label='Training accuracy')\n",
        "plt.plot(epochs, val_acc, 'b', label='Validation accuracy')\n",
        "plt.title('Training and validation accuracy')\n",
        "plt.legend(loc=0)\n",
        "plt.figure()\n",
        "\n",
        "#Menampilkan grafik\n",
        "plt.show()"
      ],
      "execution_count": null,
      "outputs": [
        {
          "output_type": "display_data",
          "data": {
            "image/png": "[encoded data removed]",
            "text/plain": [
              "<Figure size 432x288 with 1 Axes>"
            ]
          },
          "metadata": {
            "tags": [],
            "needs_background": "light"
          }
        },
        {
          "output_type": "display_data",
          "data": {
            "text/plain": [
              "<Figure size 432x288 with 0 Axes>"
            ]
          },
          "metadata": {
            "tags": []
          }
        }
      ]
    },
    {
      "cell_type": "code",
      "metadata": {
        "id": "_Ih7YqqpHCkv",
        "colab": {
          "resources": {
            "http://localhost:8080/nbextensions/google.colab/files.js": {
              "data": "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",
              "ok": true,
              "headers": [
                [
                  "content-type",
                  "application/javascript"
                ]
              ],
              "status": 200,
              "status_text": ""
            }
          },
          "base_uri": "https://localhost:8080/",
          "height": 358
        },
        "outputId": "d1f98d8d-9dfc-41fc-d7cd-4cfa7d4d9b15"
      },
      "source": [
        "#Melakukan prediksi model dan mencetak hasilnya\n",
        "import numpy as np\n",
        "from google.colab import files\n",
        "from keras.preprocessing import image\n",
        "import matplotlib.pyplot as plt\n",
        "\n",
        "%matplotlib inline\n",
        "\n",
        "#Upload file\n",
        "uploaded = files.upload()\n",
        "\n",
        "for path in uploaded.keys():\n",
        "    img = image.load_img(path, target_size =(150,150)) # Memuat gambar dari path \n",
        "    plt.imshow(img)                                    # Menampilkan Gambar\n",
        "    x = image.img_to_array(img)                        # Mengubah gambar menjadi array\n",
        "    x = np.expand_dims(x, axis=0)                      # Menambah dimensi di posisi axis yang ditetapkan\n",
        "    \n",
        "    images = np.vstack([x])                            # Menumpuk array secara vertikal\n",
        "    classes = model.predict(images, batch_size=10)     # Prediksi Model\n",
        "    \n",
        "    print(path)                                        # Mencetak hasil prediksi\n",
        "    if classes[0][0]>=classes[0].max():\n",
        "        print('paper')\n",
        "    elif classes[0][1]>=classes[0].max():\n",
        "        print('rock')\n",
        "    else:\n",
        "        print('scissors')\n",
        "     \n",
        "   "
      ],
      "execution_count": null,
      "outputs": [
        {
          "output_type": "display_data",
          "data": {
            "text/html": [
              "\n",
              "     <input type=\"file\" id=\"files-d536692a-5945-4541-9c04-e63471f3d4fc\" name=\"files[]\" multiple disabled\n",
              "        style=\"border:none\" />\n",
              "     <output id=\"result-d536692a-5945-4541-9c04-e63471f3d4fc\">\n",
              "      Upload widget is only available when the cell has been executed in the\n",
              "      current browser session. Please rerun this cell to enable.\n",
              "      </output>\n",
              "      <script src=\"/nbextensions/google.colab/files.js\"></script> "
            ],
            "text/plain": [
              "<IPython.core.display.HTML object>"
            ]
          },
          "metadata": {
            "tags": []
          }
        },
        {
          "output_type": "stream",
          "text": [
            "Saving Paper.jpg to Paper.jpg\n",
            "Paper.jpg\n",
            "paper\n"
          ],
          "name": "stdout"
        },
        {
          "output_type": "display_data",
          "data": {
            "image/png": "[encoded data removed]",
            "text/plain": [
              "<Figure size 432x288 with 1 Axes>"
            ]
          },
          "metadata": {
            "tags": [],
            "needs_background": "light"
          }
        }
      ]
    }
  ]
}